{
 "cells": [
  {
   "cell_type": "markdown",
   "id": "e82dc70e",
   "metadata": {},
   "source": [
    "#### Tweedie GLM basics\n",
    "\n",
    "[This](https://scikit-learn.org/stable/auto_examples/linear_model/plot_tweedie_regression_insurance_claims.html) link does an excellent job for going through a modelling case study using a Tweedie distribution and breaking into frequency and severity. "
   ]
  },
  {
   "cell_type": "code",
   "execution_count": 1,
   "id": "e0609c52",
   "metadata": {},
   "outputs": [],
   "source": [
    "from sklearn import linear_model\n",
    "from numpy import log\n",
    "import math"
   ]
  },
  {
   "cell_type": "markdown",
   "id": "113d2272",
   "metadata": {},
   "source": [
    "The most basic of linear models is the equation of a straight line:\n",
    "$$y = mx + c$$\n",
    "Extending this to a multivariate linear equation gives us something in the form of:\n",
    "$$y = \\beta_0 + \\beta_1 x_1 + \\beta_2 x_2 + \\dots + \\beta_n x_n $$\n",
    "One of the biggest assumptions of linear models is that the distribution that we are predicting is normally distributed. But what if it's not? Enter Generalized Linear Models (GLMs).\n",
    "\n",
    "GLMs introduce link functions to model non-normal distributions. Poisson, Gamma and Tweedie distributions are part of the exponential family of distributions, therefore we might assume that to model these distributions with GLMs we should use the natural log on our target to shrink the distribution and not explode it with the exponent. "
   ]
  },
  {
   "cell_type": "code",
   "execution_count": 2,
   "id": "5c0242e8",
   "metadata": {},
   "outputs": [
    {
     "name": "stderr",
     "output_type": "stream",
     "text": [
      "/var/folders/wd/qp852v8j47g6mk8gfmdtjktw0000gn/T/ipykernel_64527/4278842627.py:1: RuntimeWarning: divide by zero encountered in log\n",
      "  log(0)\n"
     ]
    },
    {
     "data": {
      "text/plain": [
       "-inf"
      ]
     },
     "execution_count": 2,
     "metadata": {},
     "output_type": "execute_result"
    }
   ],
   "source": [
    "log(0)"
   ]
  },
  {
   "cell_type": "markdown",
   "id": "b5b614b4",
   "metadata": {},
   "source": [
    "Woah, clearly not. \n",
    "\n",
    "Therefore let's rearrange things and instead of assuming:\n",
    "$$\\ln{y} = \\beta_0 + \\beta_1 x_1 + \\beta_2 x_2 + \\dots + \\beta_n x_n $$\n",
    "we instead have: \n",
    "$$ \\hat{y} = g^{-1} \\left( \\beta_0 + \\beta_1 x_1 + \\beta_2 x_2 + \\dots + \\beta_n x_n \\right )$$\n",
    "The inverse of the natural log is the exponential. Therefore our link function and equation becomes:\n",
    "$$ \\hat{y} = \\exp{ \\left( \\beta_0 + \\beta_1 x_1 + \\beta_2 x_2 + \\dots + \\beta_n x_n \\right )} $$\n"
   ]
  },
  {
   "cell_type": "code",
   "execution_count": 3,
   "id": "a2541acf",
   "metadata": {},
   "outputs": [
    {
     "name": "stdout",
     "output_type": "stream",
     "text": [
      "[0.19851315 0.10786525 0.02603986]\n",
      "0.509811558182181\n",
      "[2.32153782 4.6497433 ]\n"
     ]
    }
   ],
   "source": [
    "from sklearn import linear_model\n",
    "clf = linear_model.TweedieRegressor(power=1.5, link='log')\n",
    "X = [[1, 2, 0], [2, 3, 0], [3, 4, 1], [4, 3, 0]]\n",
    "y = [2, 3.5, 5, 5.5]\n",
    "\n",
    "clf.fit(X, y)\n",
    "clf.score(X, y)\n",
    "print(clf.coef_)\n",
    "print(clf.intercept_)\n",
    "\n",
    "print(clf.predict([[1, 1, 1], [3, 4, 0]]))"
   ]
  },
  {
   "cell_type": "markdown",
   "id": "f9ade10d",
   "metadata": {},
   "source": [
    "Let's test to see if:\n",
    "$$ \\hat{y} = \\exp{ \\left( \\beta_0 + \\beta_1 x_1 + \\beta_2 x_2 + \\dots + \\beta_n x_n \\right )} $$"
   ]
  },
  {
   "cell_type": "code",
   "execution_count": 4,
   "id": "23e90cfc",
   "metadata": {},
   "outputs": [
    {
     "data": {
      "text/plain": [
       "True"
      ]
     },
     "execution_count": 4,
     "metadata": {},
     "output_type": "execute_result"
    }
   ],
   "source": [
    "beta_1 = 3\n",
    "beta_2 = 4\n",
    "beta_3 = 0\n",
    "rhs = math.exp(clf.intercept_ + clf.coef_[0] * beta_1 + clf.coef_[1] * beta_2 + clf.coef_[2] * beta_3)\n",
    "lhs = clf.predict([[beta_1, beta_2, beta_3]])[0]\n",
    "\n",
    "lhs == rhs"
   ]
  },
  {
   "cell_type": "markdown",
   "id": "297eb4b1",
   "metadata": {},
   "source": [
    "Now, using the rules of indices, we can split out our exponential to form:\n",
    "$$ \\hat{y} = \\exp{ \\beta_0 } \\times \\exp{ \\beta_1 x_1 } \\times \\exp{ \\beta_2 x_2 } \\times \\dots \\times \\exp{ \\beta_n x_n }$$"
   ]
  },
  {
   "cell_type": "code",
   "execution_count": 5,
   "id": "4f3ce0e3",
   "metadata": {},
   "outputs": [
    {
     "data": {
      "text/plain": [
       "True"
      ]
     },
     "execution_count": 5,
     "metadata": {},
     "output_type": "execute_result"
    }
   ],
   "source": [
    "rhs = math.exp(clf.intercept_) * \\\n",
    "    math.exp(clf.coef_[0] * beta_1) * \\\n",
    "    math.exp(clf.coef_[1] * beta_2) * \\\n",
    "    math.exp(clf.coef_[2] * beta_3)\n",
    "\n",
    "lhs = clf.predict([[beta_1, beta_2, beta_3]])[0]\n",
    "\n",
    "round(lhs, 10) == round(rhs, 10)"
   ]
  },
  {
   "cell_type": "markdown",
   "id": "24b018ee",
   "metadata": {},
   "source": [
    "If we have a binary variable i.e. a 0 or 1 value that represents a characteristic e.g. \"is this person a homeowner?\" (1 being yes and 0 being no) then the $\\beta$ value can be interpretted as a discount or surcharge depending if the $\\beta < 0 $ or $ \\beta > 0$. E.g. `coef_[2]` in the above will either be `coef_[2] * 1 = coef_[2]` or `coef_[2] * 0 = 0`, which will result in a multiplicative factor of $\\exp{\\left( \\mathrm{coef}\\_{[2]} \\right) } = 1.026 $ (a 2.6% increase) or $\\exp{0} = 1$ (no change). "
   ]
  },
  {
   "cell_type": "code",
   "execution_count": 6,
   "id": "01433359",
   "metadata": {},
   "outputs": [
    {
     "data": {
      "image/png": "[encoded data removed]",
      "text/plain": [
       "<Figure size 500x500 with 1 Axes>"
      ]
     },
     "metadata": {},
     "output_type": "display_data"
    }
   ],
   "source": [
    "import numpy as np\n",
    "import seaborn as sns\n",
    "import matplotlib.pyplot as plt\n",
    "import pandas as pd\n",
    "\n",
    "sns.set_theme()\n",
    "\n",
    "x = np.linspace(-1, 1, 100)\n",
    "exp_data = pd.DataFrame({'x': x,\n",
    "'y': np.exp(x)})\n",
    "\n",
    "splt = sns.relplot(\n",
    "    data=exp_data, kind=\"line\",\n",
    "    x=\"x\", y=\"y\"\n",
    ")\n",
    "\n",
    "splt.set(xlabel='beta', ylabel='exp(beta)', title='Plot showing exponentiated values')\n",
    "plt.show()"
   ]
  },
  {
   "cell_type": "markdown",
   "id": "60aeafdf",
   "metadata": {},
   "source": [
    "TODO:\n",
    "- weights\n",
    "- offsets\n",
    "- frequency\n",
    "- severity"
   ]
  }
 ],
 "metadata": {
  "kernelspec": {
   "display_name": "Python 3 (ipykernel)",
   "language": "python",
   "name": "python3"
  },
  "language_info": {
   "codemirror_mode": {
    "name": "ipython",
    "version": 3
   },
   "file_extension": ".py",
   "mimetype": "text/x-python",
   "name": "python",
   "nbconvert_exporter": "python",
   "pygments_lexer": "ipython3",
   "version": "3.9.13"
  }
 },
 "nbformat": 4,
 "nbformat_minor": 5
}
